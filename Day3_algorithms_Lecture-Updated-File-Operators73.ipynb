{
 "cells": [
  {
   "cell_type": "markdown",
   "metadata": {},
   "source": [
    "# Intro to Algorithms, Binary Search"
   ]
  },
  {
   "cell_type": "markdown",
   "metadata": {},
   "source": [
    "## Tasks Today:\n",
    " \n",
    "1) <b>In-Place Algorithms</b> <br>\n",
    " &nbsp;&nbsp;&nbsp;&nbsp; a) Syntax <br>\n",
    " &nbsp;&nbsp;&nbsp;&nbsp; a) Out of Place Algorithm <br>\n",
    " &nbsp;&nbsp;&nbsp;&nbsp; b) In-Class Exercise #1 <br>\n",
    "2) <b>Two Pointers</b> <br>\n",
    "3) <b>Sorting Algorithms</b> <br>\n",
    " &nbsp;&nbsp;&nbsp;&nbsp; a) Videos on Algorithms (Watch later) <br>\n",
    " &nbsp;&nbsp;&nbsp;&nbsp; b) Bubble Sort <br>\n",
    " &nbsp;&nbsp;&nbsp;&nbsp; c) Insertion Sort <br>\n",
    " &nbsp;&nbsp;&nbsp;&nbsp; d) Merge Sort <br>\n",
    "4) <b>Binary Search Algorithm</b> <br>\n",
    "5) <b>Exercises</b> <br>\n",
    " &nbsp;&nbsp;&nbsp;&nbsp; a) Exercise #1 - Reverse a List in Place Using an In-Place Algorithm <br>\n",
    " &nbsp;&nbsp;&nbsp;&nbsp; b) Exercise #2 - Find Distinct Words <br>\n",
    " &nbsp;&nbsp;&nbsp;&nbsp; c) Exercise #3 - Write a program to implement a Linear Search Algorithm. <br>"
   ]
  },
  {
   "cell_type": "markdown",
   "metadata": {},
   "source": [
    "## In-Place Algorithms"
   ]
  },
  {
   "cell_type": "markdown",
   "metadata": {},
   "source": [
    "#### Syntax"
   ]
  },
  {
   "cell_type": "code",
   "execution_count": 13,
   "metadata": {},
   "outputs": [
    {
     "name": "stdout",
     "output_type": "stream",
     "text": [
      "Before Swap: [20, 30, 40]\n",
      "after swap: [40, 30, 20]\n"
     ]
    }
   ],
   "source": [
    "# syntax for swap\n",
    "# var[i], var[i+1] = var[i+1], var[i]\n",
    "# sometimes known as the swap algorithm... this is usually a small part of larger sorting algos\n",
    "\n",
    "def swap(a_list, x, y, z):\n",
    "    a_list[x], a_list[y], a_list[z] = a_list[z],a_list[y],a_list[x]\n",
    "    return a_list\n",
    "\n",
    "my_list = [20,30,40]\n",
    "print(f'Before Swap: {my_list}')\n",
    "\n",
    "swap(my_list,0,1,0)\n",
    "print(f'after swap: {my_list}')"
   ]
  },
  {
   "cell_type": "markdown",
   "metadata": {},
   "source": [
    "#### Out of Place Algorithm"
   ]
  },
  {
   "cell_type": "code",
   "execution_count": 14,
   "metadata": {},
   "outputs": [
    {
     "name": "stdout",
     "output_type": "stream",
     "text": [
      "[40, 30, 20]\n",
      "[20, 30, 40]\n"
     ]
    }
   ],
   "source": [
    "my_list = [20,30,40]\n",
    "my_list_copy = my_list[::-1]\n",
    "print(my_list_copy)\n",
    "print(my_list)\n"
   ]
  },
  {
   "cell_type": "markdown",
   "metadata": {},
   "source": [
    "#### In-Class Exercise #1 <br>\n",
    "<p>Write a function that takes in four arguments (list, index1, index2, index3), and swaps those three positions in the list passed in.</p>"
   ]
  },
  {
   "cell_type": "code",
   "execution_count": 28,
   "metadata": {},
   "outputs": [
    {
     "data": {
      "text/plain": [
       "[10, 3, 6, 8, 4, 2, 4]"
      ]
     },
     "execution_count": 28,
     "metadata": {},
     "output_type": "execute_result"
    }
   ],
   "source": [
    "l_1 = [10, 4, 3, 8, 4, 2, 6]\n",
    "\n",
    "def swap(l_2, x , y, z):\n",
    "    l_2[x], l_2[y], l_2[z] = l_2[y], l_2[z], l_2[x]\n",
    "    return l_2\n",
    "\n",
    "swap(l_1, 6,1,2)"
   ]
  },
  {
   "cell_type": "markdown",
   "metadata": {},
   "source": [
    "## Two Pointers"
   ]
  },
  {
   "cell_type": "markdown",
   "metadata": {},
   "source": [
    "#### Syntax"
   ]
  },
  {
   "cell_type": "code",
   "execution_count": 38,
   "metadata": {},
   "outputs": [
    {
     "name": "stdout",
     "output_type": "stream",
     "text": [
      "[10, 5, 4, 3, 2, 1]\n"
     ]
    }
   ],
   "source": [
    "# alist[left], alist[right] = alist[right], alist[left]\n",
    "# most of the time 2 pointers are going to be inside of a while loop if you are swapping items\n",
    "\n",
    "def twoPointers(alist):\n",
    "    #create 2 pointers(beginning and end in this case)\n",
    "    left = 0\n",
    "    right = len(alist) - 1\n",
    "    #start looping until there are no positions to swap\n",
    "    while left <= right:\n",
    "        #swap the left and right poitions to reverse\n",
    "        alist[left], alist[right] = alist[right], alist[left]\n",
    "        #increase left and decrease right to find the next positions to swap\n",
    "        left += 1\n",
    "        right -= 1\n",
    "    return alist\n",
    "        \n",
    "print(twoPointers([1,2,3,4,5,10]))"
   ]
  },
  {
   "cell_type": "markdown",
   "metadata": {},
   "source": [
    "#### Video of Algorithms <br>\n",
    "<p>Watch the video about algorithms.</p>\n",
    "\n",
    "https://www.youtube.com/watch?v=Q9HjeFD62Uk\n",
    "\n",
    "https://www.youtube.com/watch?v=kPRA0W1kECg\n",
    "\n",
    "https://www.youtube.com/watch?v=ZZuD6iUe3Pc"
   ]
  },
  {
   "cell_type": "markdown",
   "metadata": {},
   "source": [
    "# Sorting Algorithms"
   ]
  },
  {
   "cell_type": "markdown",
   "metadata": {},
   "source": [
    "#### Bubble Sort\n",
    "\n",
    "Worst Case: O(n^2) Time - O(1) Space"
   ]
  },
  {
   "cell_type": "code",
   "execution_count": 41,
   "metadata": {},
   "outputs": [
    {
     "data": {
      "text/plain": [
       "[1, 2, 3, 9, 444, 3434, 43424, 565345, 345452424]"
      ]
     },
     "execution_count": 41,
     "metadata": {},
     "output_type": "execute_result"
    }
   ],
   "source": [
    "# steps\n",
    "# iterate over a list, compare each item to the item next to it\n",
    "# if the value on the left > value on the right - swap those values\n",
    "# keep going through the list until we make a full loop with no swaps\n",
    "\n",
    "def swap(i,j,array):\n",
    "    \n",
    "    array[i], array[j] = array[j], array[i]\n",
    "    \n",
    "def bubbleSort(array):\n",
    "    is_sorted = False\n",
    "    while not is_sorted:\n",
    "        is_sorted = True\n",
    "        # here is where we would swap\n",
    "        for i in range(len(array)-1):\n",
    "            if array[i] > array[i + 1]:\n",
    "                swap(i, i+1, array)\n",
    "                is_sorted = False\n",
    "                \n",
    "    return array\n",
    "\n",
    "bubbleSort([3434,565345,345452424,43424,444,9,3,2,1])\n",
    "\n",
    "        "
   ]
  },
  {
   "cell_type": "markdown",
   "metadata": {},
   "source": [
    "##### Insertion Sort\n",
    "\n",
    "\n",
    "Worst Case: O(n^2) time - O(1)space"
   ]
  },
  {
   "cell_type": "code",
   "execution_count": 43,
   "metadata": {},
   "outputs": [
    {
     "data": {
      "text/plain": [
       "[3, 34, 4324, 1, 7675, 999999]"
      ]
     },
     "execution_count": 43,
     "metadata": {},
     "output_type": "execute_result"
    }
   ],
   "source": [
    "# steps\n",
    "# look at the value at each index\n",
    "# compare that item to every value at the left - then\n",
    "# move the item until you reach a number comparison\n",
    "# that is already in the correct order\n",
    "# Do this for every value - index 1 - final index\n",
    "\n",
    "def swap(i,j,array):\n",
    "    array[i], array[j] = array[j], array[i]\n",
    "    \n",
    "def insertionSort(array):\n",
    "    for i in range(1, len(array)):\n",
    "        j = i\n",
    "        while j > 0 and array[j] < array[j-1]:\n",
    "            swap(j, j-1, array)\n",
    "            j -= 1\n",
    "        return array\n",
    "    \n",
    "insertionSort([3,34,4324,1,7675,999999])\n",
    "\n",
    "\n",
    "            \n"
   ]
  },
  {
   "cell_type": "markdown",
   "metadata": {},
   "source": [
    "## Merge Sort"
   ]
  },
  {
   "cell_type": "markdown",
   "metadata": {},
   "source": [
    "#### How it Works"
   ]
  },
  {
   "cell_type": "code",
   "execution_count": 49,
   "metadata": {},
   "outputs": [
    {
     "data": {
      "text/plain": [
       "4"
      ]
     },
     "execution_count": 49,
     "metadata": {},
     "output_type": "execute_result"
    }
   ],
   "source": [
    "# step 1: split everything into its own group\n",
    "# step2: from left to right,merge 2 equal sections together\n",
    "# step 3: While merging, place each item in the correct position within the merged group\n",
    "# step 4: continue steps 3-4 until one group is left\n",
    "\n",
    "#creating a random list \n",
    "from random import randint\n",
    "#randint(1,10)\n",
    "\n",
    "nums = [randint(0,20) for i in range(5)]\n",
    "\n",
    "#Merge Sort Below\n",
    "def mergeSort(array):\n",
    "    print('Splitting...', array)\n",
    "    \n",
    "    #"
   ]
  },
  {
   "cell_type": "markdown",
   "metadata": {},
   "source": [
    "# Binary Search\n",
    "\n",
    "The Binary Search algorithm works by finding the number in the middle of a given array and comparing it to the target. Given that the array is sorted\n",
    "\n",
    "* The worst case run time for this algorithm is `O(log(n))`"
   ]
  },
  {
   "cell_type": "code",
   "execution_count": null,
   "metadata": {},
   "outputs": [],
   "source": [
    "def binarySearch(array, target):\n",
    "    # step 1: Establish pointers\n",
    "    left = 0\n",
    "    right = len(array) - 1\n",
    "    # step 2: establish midpoint and \n",
    "    mid = (left + right) // 2"
   ]
  },
  {
   "cell_type": "markdown",
   "metadata": {},
   "source": [
    "# Exercises"
   ]
  },
  {
   "cell_type": "markdown",
   "metadata": {},
   "source": [
    "### Exercise #1 <br>\n",
    "<p>Reverse the list below in-place using an in-place algorithm.<br>For extra credit: Reverse the strings at the same time.</p>"
   ]
  },
  {
   "cell_type": "code",
   "execution_count": 5,
   "metadata": {},
   "outputs": [
    {
     "data": {
      "text/plain": [
       "['.', 'sentence', 'a', 'is', 'this']"
      ]
     },
     "execution_count": 5,
     "metadata": {},
     "output_type": "execute_result"
    }
   ],
   "source": [
    "# OUTPUT: ['.', 'sentence', 'a', 'is', 'this']\n",
    "# EC OUTPUT: ['.', 'ecnetnes', 'a', 'si', 'siht']\n",
    "# w/o creating new list \n",
    "words = ['this' , 'is', 'a', 'sentence', '.']\n",
    "\n",
    "def swap(array, v, w, x, y, z):\n",
    "    array[v], array[w], array[x], array[y], array[z] = array[z], array[y], array[x], array[w], array[v]\n",
    "    return array\n",
    "\n",
    "swap(words, 0,1,2,3,4)"
   ]
  },
  {
   "cell_type": "markdown",
   "metadata": {},
   "source": [
    "### Exercise #2 <br>\n",
    "<p>Create a function that counts how many distinct words are in the string below, then outputs a dictionary with the words as the key and the value as the amount of times that word appears in the string.<br>Should output:<br>{'a': 5,<br>\n",
    " 'abstract': 1,<br>\n",
    " 'an': 3,<br>\n",
    " 'array': 2, ... etc...</p>"
   ]
  },
  {
   "cell_type": "code",
   "execution_count": 17,
   "metadata": {},
   "outputs": [],
   "source": [
    "a_text = 'In computing, a hash table hash map is a data structure which implements\\\n",
    "            an associative array abstract data type, a structure that can map keys\\\n",
    "            to values. A hash table uses a hash function to compute an index into an\\\n",
    "            array of buckets or slots from which the desired value can be found'\n",
    "\n",
    "\n",
    "class wordCount:\n",
    "    \n",
    "    def __init__(self, words):\n",
    "        self.words = words\n",
    "    \n",
    "    \n",
    "    def addWord(self):\n",
    "        \n",
    "        if i in self.words:\n",
    "            self.words[i] += 1\n",
    "        else:\n",
    "            self.words[i] = 1\n",
    "    \n",
    "    \n",
    "a_text_info = {}\n",
    "\n"
   ]
  },
  {
   "cell_type": "markdown",
   "metadata": {},
   "source": [
    "## Exercise #3\n",
    "\n",
    "Write a program to implement a Linear Search Algorithm. \n",
    "\n",
    "#### Hint: Linear Searching will require searching a list for a given number. "
   ]
  },
  {
   "cell_type": "code",
   "execution_count": null,
   "metadata": {},
   "outputs": [],
   "source": []
  }
 ],
 "metadata": {
  "kernelspec": {
   "display_name": "Python 3",
   "language": "python",
   "name": "python3"
  },
  "language_info": {
   "codemirror_mode": {
    "name": "ipython",
    "version": 3
   },
   "file_extension": ".py",
   "mimetype": "text/x-python",
   "name": "python",
   "nbconvert_exporter": "python",
   "pygments_lexer": "ipython3",
   "version": "3.8.8"
  }
 },
 "nbformat": 4,
 "nbformat_minor": 2
}
